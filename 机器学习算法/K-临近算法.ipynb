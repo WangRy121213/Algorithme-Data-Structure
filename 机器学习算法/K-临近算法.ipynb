{
 "cells": [
  {
   "cell_type": "markdown",
   "metadata": {},
   "source": [
    "#\n",
    "   create a function to import data"
   ]
  },
  {
   "cell_type": "code",
   "execution_count": 1,
   "metadata": {
    "collapsed": true
   },
   "outputs": [],
   "source": [
    "from numpy import*\n",
    "import operator\n",
    "def createDataSet():\n",
    "    group = array([[1.0,1.1],[1.0,1.0],[0,0],[0,0.1]])\n",
    "    label = ['A','A','B','B']\n",
    "    return group,label"
   ]
  },
  {
   "cell_type": "markdown",
   "metadata": {},
   "source": [
    "\n",
    "\n",
    "  计算已知类别数据集中的点与当前点之间的距离\n",
    "  \n",
    "  按照距离递增次序排序\n",
    "  \n",
    "  选取与当前点距离最小的k个点\n",
    "  \n",
    "  确定前k个点所在类别的出现频率\n",
    "  \n",
    "  返回前k个点出现频率最高的类别作为当前点的预测分类"
   ]
  },
  {
   "cell_type": "code",
   "execution_count": 15,
   "metadata": {},
   "outputs": [
    {
     "name": "stdout",
     "output_type": "stream",
     "text": [
      "[[ 0.2    0.369]\n",
      " [ 0.2    0.369]\n",
      " [ 0.2    0.369]\n",
      " [ 0.2    0.369]]\n"
     ]
    }
   ],
   "source": [
    "inX = [0.2,0.369]\n",
    "Max = tile(inX,(4,1))\n",
    "print(Max)"
   ]
  },
  {
   "cell_type": "code",
   "execution_count": 20,
   "metadata": {
    "collapsed": true
   },
   "outputs": [],
   "source": [
    "def classify0(inX,dataSet,labels,k):\n",
    "    #获取数据集的行数据\n",
    "    DataSetSize = dataSet.shape[0]\n",
    "    #函数原型：numpy.tile(A,reps) #简单理解是此函数将A进行重复输出\n",
    "    #将inX复制为DataSetSize行1列的数据\n",
    "    DiffMat = tile(inX,(DataSetSize,1))-dataSet\n",
    "    SqDiffMat = DiffMat**2\n",
    "    #矩阵的每一个行向量求和\n",
    "    SqDistance = SqDiffMat.sum(axis=1)\n",
    "    Distance = SqDistance**0.5\n",
    "    print(Distance)\n",
    "    #argsort函数返回的是数组值从小到大的索引值\n",
    "    SortedDisIndicies = Distance.argsort()\n",
    "    print(SortedDisIndicies)\n",
    "    ClassCount = {}\n",
    "    for i in range(k):\n",
    "        VoteIlabel = labels[SortedDisIndicies[i]]\n",
    "        ClassCount[VoteIlabel] = ClassCount.get(VoteIlabel,0) + 1\n",
    "        #operator模块提供的itemgetter函数用于获取对象的哪些维的数据，\n",
    "        #参数为一些序号（即需要获取的数据在对象中的序号）\n",
    "        #此处表示需提供ClassCount中的第一个值作为比较对象\n",
    "    SortedclassCount = sorted(ClassCount.items(),key = operator.itemgetter(1),reverse = True)\n",
    "    return SortedclassCount"
   ]
  },
  {
   "cell_type": "code",
   "execution_count": 21,
   "metadata": {},
   "outputs": [
    {
     "name": "stdout",
     "output_type": "stream",
     "text": [
      "[ 1.08367938  1.01890186  0.41971538  0.33520292]\n",
      "[3 2 1 0]\n"
     ]
    },
    {
     "data": {
      "text/plain": [
       "[('B', 2), ('A', 1)]"
      ]
     },
     "execution_count": 21,
     "metadata": {},
     "output_type": "execute_result"
    }
   ],
   "source": [
    "group,label = createDataSet()\n",
    "classify0([0.2,0.369],group,label,3)"
   ]
  },
  {
   "cell_type": "markdown",
   "metadata": {},
   "source": [
    "# 准备数据：从文本文件中解析数据\n",
    "   将文本记录到转换NumPy的解析程序"
   ]
  },
  {
   "cell_type": "code",
   "execution_count": 25,
   "metadata": {
    "collapsed": true
   },
   "outputs": [],
   "source": [
    "def file2matrix(filename):\n",
    "    fr = open(filename)\n",
    "    ArrayOLine = fr.readlines()\n",
    "    NumberOfLine = len(ArrayOLine)\n",
    "    ReturnMat = zeros((NumberOfLine,3))\n",
    "    ClassLabelVector = []\n",
    "    index = 0\n",
    "    for line in ArrayOLine:\n",
    "        line = line.strip()\n",
    "        listFromLine = line.split('\\t')\n",
    "        ReturnMat[index,:] = listFromLine[0:3]\n",
    "        ClassLabelVector.append(listFromLine[-1])\n",
    "        index += 1\n",
    "    return ReturnMat,ClassLabelVector"
   ]
  },
  {
   "cell_type": "code",
   "execution_count": 26,
   "metadata": {
    "collapsed": true
   },
   "outputs": [],
   "source": [
    "DatingDataMat,DatingLabels = file2matrix('H:\\Desktop\\datingTestSet.txt')"
   ]
  },
  {
   "cell_type": "markdown",
   "metadata": {},
   "source": [
    "# 分析数据：使用Matplotlib创建散点图"
   ]
  },
  {
   "cell_type": "code",
   "execution_count": 36,
   "metadata": {},
   "outputs": [
    {
     "data": {
      "image/png": "[encoded data removed]",
      "text/plain": [
       "<matplotlib.figure.Figure at 0x88b0cf8>"
      ]
     },
     "metadata": {},
     "output_type": "display_data"
    }
   ],
   "source": [
    "import matplotlib\n",
    "import matplotlib.pyplot as plt\n",
    "fig = plt.figure()\n",
    "ax  = fig.add_subplot(111)\n",
    "ax.scatter(DatingDataMat[:,0],DatingDataMat[:,1])\n",
    "plt.show()"
   ]
  },
  {
   "cell_type": "markdown",
   "metadata": {},
   "source": [
    "# 归一化特征值"
   ]
  },
  {
   "cell_type": "code",
   "execution_count": 46,
   "metadata": {
    "collapsed": true
   },
   "outputs": [],
   "source": [
    "def autoNorm(DataSet):\n",
    "    minValues = DatingDataMat.min(0)\n",
    "    maxValues = DatingDataMat.max(0)\n",
    "    Ranges = maxValues - minValues\n",
    "    NormDataSet = zeros(shape(DataSet))\n",
    "    m = DataSet.shape[0]\n",
    "    NormDataSet = DataSet - tile(minValues,(m,1))\n",
    "    NormDataSet = NormDataSet/tile(Ranges,(m,1))\n",
    "    return NormDataSet,Ranges,minValues"
   ]
  },
  {
   "cell_type": "code",
   "execution_count": 51,
   "metadata": {},
   "outputs": [
    {
     "data": {
      "text/plain": [
       "array([ 0.      ,  0.      ,  0.001156])"
      ]
     },
     "execution_count": 51,
     "metadata": {},
     "output_type": "execute_result"
    }
   ],
   "source": [
    "NormDataSet,Ranges,minValues = autoNorm(DatingDataMat)"
   ]
  },
  {
   "cell_type": "code",
   "execution_count": 59,
   "metadata": {
    "collapsed": true
   },
   "outputs": [],
   "source": [
    "def datingClassTest():\n",
    "    hoRatio = 0.1\n",
    "    DatingDataMat,DatingLabels = file2matrix('H:\\Desktop\\datingTestSet.txt')\n",
    "    NormDataSet,Ranges,minValues = autoNorm(DatingDataMat)\n",
    "    m = NormDataSet.shape[0]\n",
    "    NumTestVecs = int(m*hoRatio)#前多少行为测试数据，后面为对比数据\n",
    "    errorCount = 0.0\n",
    "    for i in range(NumTestVecs):\n",
    "        ClassifierResult = classify0(NormDataSet[i,:],NormDataSet[NumTestVecs:m,:],DatingLabels[NumTestVecs:m],3)\n",
    "        print(\"the classifier came back with:%s,the real answer is:%s\"%(ClassifierResult,DatingLabels[i]))\n",
    "        if(ClassifierResult != DatingLabels[i]):\n",
    "            errorCount += 1.0\n",
    "            print(\"the total error rate is:%f\"%(errorCount/float(NumTestVecs)))"
   ]
  },
  {
   "cell_type": "code",
   "execution_count": 60,
   "metadata": {},
   "outputs": [
    {
     "name": "stdout",
     "output_type": "stream",
     "text": [
      "the classifier came back with:largeDoses,the real answer is:largeDoses\n",
      "the classifier came back with:smallDoses,the real answer is:smallDoses\n",
      "the classifier came back with:didntLike,the real answer is:didntLike\n",
      "the classifier came back with:didntLike,the real answer is:didntLike\n",
      "the classifier came back with:didntLike,the real answer is:didntLike\n",
      "the classifier came back with:didntLike,the real answer is:didntLike\n",
      "the classifier came back with:largeDoses,the real answer is:largeDoses\n",
      "the classifier came back with:largeDoses,the real answer is:largeDoses\n",
      "the classifier came back with:didntLike,the real answer is:didntLike\n",
      "the classifier came back with:largeDoses,the real answer is:largeDoses\n",
      "the classifier came back with:didntLike,the real answer is:didntLike\n",
      "the classifier came back with:didntLike,the real answer is:didntLike\n",
      "the classifier came back with:smallDoses,the real answer is:smallDoses\n",
      "the classifier came back with:didntLike,the real answer is:didntLike\n",
      "the classifier came back with:didntLike,the real answer is:didntLike\n",
      "the classifier came back with:didntLike,the real answer is:didntLike\n",
      "the classifier came back with:didntLike,the real answer is:didntLike\n",
      "the classifier came back with:didntLike,the real answer is:didntLike\n",
      "the classifier came back with:smallDoses,the real answer is:smallDoses\n",
      "the classifier came back with:largeDoses,the real answer is:largeDoses\n",
      "the classifier came back with:smallDoses,the real answer is:smallDoses\n",
      "the classifier came back with:didntLike,the real answer is:didntLike\n",
      "the classifier came back with:largeDoses,the real answer is:smallDoses\n",
      "the total error rate is:0.010000\n",
      "the classifier came back with:largeDoses,the real answer is:largeDoses\n",
      "the classifier came back with:smallDoses,the real answer is:smallDoses\n",
      "the classifier came back with:largeDoses,the real answer is:largeDoses\n",
      "the classifier came back with:smallDoses,the real answer is:smallDoses\n",
      "the classifier came back with:largeDoses,the real answer is:largeDoses\n",
      "the classifier came back with:smallDoses,the real answer is:smallDoses\n",
      "the classifier came back with:didntLike,the real answer is:didntLike\n",
      "the classifier came back with:largeDoses,the real answer is:largeDoses\n",
      "the classifier came back with:didntLike,the real answer is:didntLike\n",
      "the classifier came back with:largeDoses,the real answer is:largeDoses\n",
      "the classifier came back with:didntLike,the real answer is:didntLike\n",
      "the classifier came back with:smallDoses,the real answer is:smallDoses\n",
      "the classifier came back with:didntLike,the real answer is:didntLike\n",
      "the classifier came back with:didntLike,the real answer is:didntLike\n",
      "the classifier came back with:smallDoses,the real answer is:smallDoses\n",
      "the classifier came back with:largeDoses,the real answer is:largeDoses\n",
      "the classifier came back with:largeDoses,the real answer is:largeDoses\n",
      "the classifier came back with:didntLike,the real answer is:didntLike\n",
      "the classifier came back with:smallDoses,the real answer is:smallDoses\n",
      "the classifier came back with:largeDoses,the real answer is:largeDoses\n",
      "the classifier came back with:largeDoses,the real answer is:largeDoses\n",
      "the classifier came back with:largeDoses,the real answer is:largeDoses\n",
      "the classifier came back with:didntLike,the real answer is:didntLike\n",
      "the classifier came back with:didntLike,the real answer is:didntLike\n",
      "the classifier came back with:didntLike,the real answer is:didntLike\n",
      "the classifier came back with:didntLike,the real answer is:didntLike\n",
      "the classifier came back with:smallDoses,the real answer is:smallDoses\n",
      "the classifier came back with:smallDoses,the real answer is:smallDoses\n",
      "the classifier came back with:didntLike,the real answer is:didntLike\n",
      "the classifier came back with:largeDoses,the real answer is:largeDoses\n",
      "the classifier came back with:smallDoses,the real answer is:smallDoses\n",
      "the classifier came back with:smallDoses,the real answer is:smallDoses\n",
      "the classifier came back with:smallDoses,the real answer is:smallDoses\n",
      "the classifier came back with:smallDoses,the real answer is:smallDoses\n",
      "the classifier came back with:largeDoses,the real answer is:largeDoses\n",
      "the classifier came back with:didntLike,the real answer is:didntLike\n",
      "the classifier came back with:smallDoses,the real answer is:smallDoses\n",
      "the classifier came back with:didntLike,the real answer is:didntLike\n",
      "the classifier came back with:smallDoses,the real answer is:smallDoses\n",
      "the classifier came back with:smallDoses,the real answer is:smallDoses\n",
      "the classifier came back with:smallDoses,the real answer is:smallDoses\n",
      "the classifier came back with:smallDoses,the real answer is:smallDoses\n",
      "the classifier came back with:smallDoses,the real answer is:smallDoses\n",
      "the classifier came back with:largeDoses,the real answer is:largeDoses\n",
      "the classifier came back with:smallDoses,the real answer is:smallDoses\n",
      "the classifier came back with:largeDoses,the real answer is:largeDoses\n",
      "the classifier came back with:didntLike,the real answer is:didntLike\n",
      "the classifier came back with:smallDoses,the real answer is:smallDoses\n",
      "the classifier came back with:largeDoses,the real answer is:largeDoses\n",
      "the classifier came back with:smallDoses,the real answer is:smallDoses\n",
      "the classifier came back with:smallDoses,the real answer is:smallDoses\n",
      "the classifier came back with:largeDoses,the real answer is:didntLike\n",
      "the total error rate is:0.020000\n",
      "the classifier came back with:largeDoses,the real answer is:largeDoses\n",
      "the classifier came back with:didntLike,the real answer is:didntLike\n",
      "the classifier came back with:didntLike,the real answer is:didntLike\n",
      "the classifier came back with:largeDoses,the real answer is:largeDoses\n",
      "the classifier came back with:largeDoses,the real answer is:largeDoses\n",
      "the classifier came back with:didntLike,the real answer is:didntLike\n",
      "the classifier came back with:smallDoses,the real answer is:smallDoses\n",
      "the classifier came back with:largeDoses,the real answer is:largeDoses\n",
      "the classifier came back with:largeDoses,the real answer is:didntLike\n",
      "the total error rate is:0.030000\n",
      "the classifier came back with:largeDoses,the real answer is:largeDoses\n",
      "the classifier came back with:didntLike,the real answer is:didntLike\n",
      "the classifier came back with:smallDoses,the real answer is:smallDoses\n",
      "the classifier came back with:smallDoses,the real answer is:smallDoses\n",
      "the classifier came back with:didntLike,the real answer is:didntLike\n",
      "the classifier came back with:didntLike,the real answer is:didntLike\n",
      "the classifier came back with:largeDoses,the real answer is:largeDoses\n",
      "the classifier came back with:smallDoses,the real answer is:largeDoses\n",
      "the total error rate is:0.040000\n",
      "the classifier came back with:didntLike,the real answer is:didntLike\n",
      "the classifier came back with:smallDoses,the real answer is:smallDoses\n",
      "the classifier came back with:didntLike,the real answer is:didntLike\n",
      "the classifier came back with:largeDoses,the real answer is:largeDoses\n",
      "the classifier came back with:largeDoses,the real answer is:largeDoses\n",
      "the classifier came back with:smallDoses,the real answer is:smallDoses\n",
      "the classifier came back with:didntLike,the real answer is:didntLike\n",
      "the classifier came back with:largeDoses,the real answer is:didntLike\n",
      "the total error rate is:0.050000\n"
     ]
    }
   ],
   "source": [
    "datingClassTest()"
   ]
  },
  {
   "cell_type": "code",
   "execution_count": null,
   "metadata": {
    "collapsed": true
   },
   "outputs": [],
   "source": []
  }
 ],
 "metadata": {
  "kernelspec": {
   "display_name": "Python 3",
   "language": "python",
   "name": "python3"
  },
  "language_info": {
   "codemirror_mode": {
    "name": "ipython",
    "version": 3
   },
   "file_extension": ".py",
   "mimetype": "text/x-python",
   "name": "python",
   "nbconvert_exporter": "python",
   "pygments_lexer": "ipython3",
   "version": "3.6.1"
  }
 },
 "nbformat": 4,
 "nbformat_minor": 2
}
