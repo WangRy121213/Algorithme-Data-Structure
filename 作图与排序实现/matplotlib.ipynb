{
 "cells": [
  {
   "cell_type": "code",
   "execution_count": null,
   "metadata": {
    "collapsed": true
   },
   "outputs": [],
   "source": [
    "#导入必要的模块  \n",
    "import numpy as np  \n",
    "import matplotlib.pyplot as plt  \n",
    "#产生测试数据  \n",
    "x = np.arange(1,10)  \n",
    "y = x  \n",
    "fig = plt.figure()  \n",
    "ax1 = fig.add_subplot(111)  \n",
    "#设置标题  \n",
    "ax1.set_title('Scatter Plot')  \n",
    "#设置X轴标签  \n",
    "plt.xlabel('X')  \n",
    "#设置Y轴标签  \n",
    "plt.ylabel('Y')  \n",
    "#画散点图  \n",
    "ax1.scatter(x,y,c = 'r',marker = 'o')  \n",
    "#设置图标  \n",
    "plt.legend('x1')  \n",
    "#显示所画的图  \n",
    "plt.show()  "
   ]
  }
 ],
 "metadata": {
  "kernelspec": {
   "display_name": "Python 3",
   "language": "python",
   "name": "python3"
  },
  "language_info": {
   "codemirror_mode": {
    "name": "ipython",
    "version": 3
   },
   "file_extension": ".py",
   "mimetype": "text/x-python",
   "name": "python",
   "nbconvert_exporter": "python",
   "pygments_lexer": "ipython3",
   "version": "3.6.1"
  }
 },
 "nbformat": 4,
 "nbformat_minor": 2
}
