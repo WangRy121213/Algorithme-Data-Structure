{
 "cells": [
  {
   "cell_type": "markdown",
   "metadata": {},
   "source": [
    "# python3 帮助文档：\n",
    "\n",
    "sorted(iterable，key=None,reverse=False)\n",
    "\n",
    "key接受一个函数，这个函数只接受一个元素，默认为None\n",
    "\n",
    "reverse是一个布尔值。如果设置为True，列表元素将被倒序排列，默认为False\n",
    "\n",
    "着重介绍key的作用原理：\n",
    "\n",
    "key指定一个接收一个参数的函数，这个函数用于从每个元素中提取一个用于比较的关键字。\n",
    "\n",
    "默认值为None\n"
   ]
  },
  {
   "cell_type": "code",
   "execution_count": 5,
   "metadata": {},
   "outputs": [
    {
     "data": {
      "text/plain": [
       "[0, 4, 5, 7, -2, -5, -8]"
      ]
     },
     "execution_count": 5,
     "metadata": {},
     "output_type": "execute_result"
    }
   ],
   "source": [
    "list1=[7, -8, 5, 4, 0, -2, -5]\n",
    "#要求1.正数在前负数在后 2.整数从小到大 3.负数从大到小\n",
    "#解题思路：先按照正负排先后，再按照大小排先后。\n",
    "sorted(list1,key=lambda x:(x<0,abs(x)))"
   ]
  },
  {
   "cell_type": "code",
   "execution_count": 9,
   "metadata": {},
   "outputs": [
    {
     "data": {
      "text/plain": [
       "[('zhang', 'B+', 24), ('ruoyu', 'A++', 25), ('wang', 'A+', 27)]"
      ]
     },
     "execution_count": 9,
     "metadata": {},
     "output_type": "execute_result"
    }
   ],
   "source": [
    "#按照学生的年龄大小来排序\n",
    "students = [('wang','A+',27),('zhang','B+',24),('ruoyu','A++',25)]\n",
    "sorted(students,key = lambda s:s[2])"
   ]
  },
  {
   "cell_type": "markdown",
   "metadata": {},
   "source": [
    "# x.isdigit()的作用是把数字放在前边,字母放在后边.\n",
    "\n",
    "# x.isdigit() and int(x) % 2 == 0的作用是保证奇数在前，偶数在后。\n",
    "\n",
    "# x.isupper()的作用是在前面基础上,保证字母小写在前大写在后.\n",
    "\n",
    "# 最后的x表示在前面基础上,对所有类别数字或字母排序。"
   ]
  },
  {
   "cell_type": "code",
   "execution_count": 11,
   "metadata": {},
   "outputs": [
    {
     "name": "stdout",
     "output_type": "stream",
     "text": [
      "addffssDGS33224\n"
     ]
    }
   ],
   "source": [
    "#这是一个字符串排序，排序规则：小写<大写<奇数<偶数\n",
    "s = 'asdf234GDSdsf23'  #排序:小写-大写-奇数-偶数\n",
    "#原理：先比较元组的第一个值，FALSE<TRUE，如果相等就比较元组的下一个值，以此类推。\n",
    "#Boolean 的排序会将 False 排在前，True排在后 .\n",
    "print(\"\".join(sorted(s,key = lambda x : (x.isdigit(),x.isdigit() and int(x) % 2 == 0,x.isupper(),x))))\n"
   ]
  },
  {
   "cell_type": "code",
   "execution_count": null,
   "metadata": {
    "collapsed": true
   },
   "outputs": [],
   "source": []
  }
 ],
 "metadata": {
  "kernelspec": {
   "display_name": "Python 3",
   "language": "python",
   "name": "python3"
  },
  "language_info": {
   "codemirror_mode": {
    "name": "ipython",
    "version": 3
   },
   "file_extension": ".py",
   "mimetype": "text/x-python",
   "name": "python",
   "nbconvert_exporter": "python",
   "pygments_lexer": "ipython3",
   "version": "3.6.1"
  }
 },
 "nbformat": 4,
 "nbformat_minor": 2
}
